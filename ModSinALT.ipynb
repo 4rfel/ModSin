{
 "cells": [
  {
   "cell_type": "code",
   "execution_count": 61,
   "metadata": {},
   "outputs": [],
   "source": [
    "from math import pi\n",
    "def var(t0,t):\n",
    "    Qp = (emissividade * o * AreaHumano * (Thumano**4-t0**4)) * Npessoas\n",
    "    #Qf =  o * AreaFogo * Tfogo**4\n",
    "    Qf = 0\n",
    "    Qq = Qp + Qf\n",
    "    Qr = (kneve * AinternaIglu *(t0-ta)) / espessura\n",
    "    dTdt = (1/m0*cneve) * (Qq - Qr)\n",
    "    return dTdt\n",
    "\n",
    "def test(t0,t):\n",
    "    dTdt = espessura * o *(AreaFogo * Tfogo**4 + emissividade * AreaHumano * Thumano**4)/(2*pi*kneve*raio**2)\n",
    "    return dTdt"
   ]
  },
  {
   "cell_type": "code",
   "execution_count": 62,
   "metadata": {},
   "outputs": [],
   "source": [
    "from math import pi\n",
    "import numpy as np\n",
    "from scipy.integrate import odeint\n",
    "import matplotlib.pyplot as plt\n",
    "\n",
    "emissividade = 0.95\n",
    "o = 5.67 * 10**(-8)\n",
    "AreaHumano = 2 #m2\n",
    "Thumano = 273+37 #Kelvin\n",
    "Npessoas = 2\n",
    "AreaFogo = 1.256*10**-3\n",
    "Tfogo = 1672\n",
    "kneve = 0.3\n",
    "raio = 2\n",
    "AinternaIglu = 4*pi*raio**2/2\n",
    "ta = -43.15 + 273.15\n",
    "t0 = ta\n",
    "espessura = 0.33\n",
    "volume_ar =  33.5103/2\n",
    "densidade_ar = 1.2922\n",
    "m0 = densidade_ar * volume_ar\n",
    "cneve = 2090"
   ]
  },
  {
   "cell_type": "code",
   "execution_count": 63,
   "metadata": {
    "scrolled": true
   },
   "outputs": [
    {
     "data": {
      "image/png": "[encoded data removed]",
      "text/plain": [
       "<matplotlib.figure.Figure at 0x2d8ce3d6cf8>"
      ]
     },
     "metadata": {},
     "output_type": "display_data"
    }
   ],
   "source": [
    "Tmax = 24*60*60\n",
    "listaTempo = np.arange(0,Tmax,0.1)\n",
    "\n",
    "solucao = odeint(var,t0,listaTempo)\n",
    "TempC = [temp-273.15 for temp in solucao[:,0]]\n",
    "TempoH = [t/3600 for t in listaTempo]\n",
    "plt.plot(TempoH,TempC)\n",
    "plt.xlabel('Tempo (h)')\n",
    "plt.ylabel('Temperatura °C')\n",
    "plt.show()"
   ]
  },
  {
   "cell_type": "code",
   "execution_count": 64,
   "metadata": {},
   "outputs": [],
   "source": [
    "for e in range(5,50,1):\n",
    "    dp = e/100\n",
    "    ap = (4*pi*(2+dp)**2)/2\n",
    "    solucao = odeint(var,t0,listaTempo)"
   ]
  },
  {
   "cell_type": "code",
   "execution_count": null,
   "metadata": {},
   "outputs": [],
   "source": []
  },
  {
   "cell_type": "code",
   "execution_count": null,
   "metadata": {},
   "outputs": [],
   "source": []
  }
 ],
 "metadata": {
  "kernelspec": {
   "display_name": "Python 3",
   "language": "python",
   "name": "python3"
  },
  "language_info": {
   "codemirror_mode": {
    "name": "ipython",
    "version": 3
   },
   "file_extension": ".py",
   "mimetype": "text/x-python",
   "name": "python",
   "nbconvert_exporter": "python",
   "pygments_lexer": "ipython3",
   "version": "3.6.4"
  }
 },
 "nbformat": 4,
 "nbformat_minor": 2
}
